{
  "nbformat": 4,
  "nbformat_minor": 0,
  "metadata": {
    "colab": {
      "provenance": [],
      "toc_visible": true,
      "authorship_tag": "ABX9TyMl7szUC0tDuggBHv2Rd2xu"
    },
    "kernelspec": {
      "name": "python3",
      "display_name": "Python 3"
    },
    "language_info": {
      "name": "python"
    }
  },
  "cells": [
    {
      "cell_type": "markdown",
      "source": [
        "# Title"
      ],
      "metadata": {
        "id": "XbXBinj5j1kS"
      }
    },
    {
      "cell_type": "markdown",
      "source": [
        "Date: Febrary 2023 "
      ],
      "metadata": {
        "id": "PV257Rc7j8ga"
      }
    },
    {
      "cell_type": "markdown",
      "source": [
        "## 摘要\n",
        "XXX\n"
      ],
      "metadata": {
        "id": "0qXd_wLikFBf"
      }
    },
    {
      "cell_type": "markdown",
      "source": [
        "## 准备工作"
      ],
      "metadata": {
        "id": "lV1N1ot1ki1N"
      }
    },
    {
      "cell_type": "code",
      "source": [],
      "metadata": {
        "id": "aI25tQuNkmSl"
      },
      "execution_count": null,
      "outputs": []
    }
  ]
}